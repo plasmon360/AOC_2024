{
 "cells": [
  {
   "cell_type": "markdown",
   "id": "f87d1e24-e4a4-4614-95b8-6eacdccc33bd",
   "metadata": {},
   "source": [
    "Day 2: Part1"
   ]
  },
  {
   "cell_type": "code",
   "execution_count": 1,
   "id": "9399b5b3-fc6b-48f9-82e8-01feec52a502",
   "metadata": {},
   "outputs": [],
   "source": [
    "with open(\"./data/day2_input.txt\") as f:\n",
    "    contents = f.readlines()"
   ]
  },
  {
   "cell_type": "code",
   "execution_count": 2,
   "id": "db3b0b70-2d54-4048-addd-02a020ccbb30",
   "metadata": {},
   "outputs": [],
   "source": [
    "data = []\n",
    "for i, report in enumerate(contents):\n",
    "    data.append([int(x) for x in report.strip().split()])\n"
   ]
  },
  {
   "cell_type": "markdown",
   "id": "f93e61f1-458e-4586-978c-0b1f00fb0d3b",
   "metadata": {},
   "source": [
    "The levels are either all increasing or all decreasing. => Note here that these are not adjacent levels...but all levels..\n",
    "Any two adjacent levels differ by at least one and at most three."
   ]
  },
  {
   "cell_type": "code",
   "execution_count": 3,
   "id": "867284ca-7ed6-412c-a43e-1665ab78793a",
   "metadata": {},
   "outputs": [],
   "source": [
    "safe = []\n",
    "def check_report(report):\n",
    "\n",
    "\n",
    "    report_safe = True\n",
    "\n",
    "    # Check if any levels are duplicates if so flag immediately\n",
    "    if len(set(report)) < len(report):\n",
    "        # print(f\"Duplicates found in {report}\")\n",
    "        report_safe = False\n",
    "        return report_safe\n",
    "    \n",
    "    # case where the first two numbers are increasing\n",
    "    i = 1\n",
    "    if report[1]-report[0] >0:\n",
    "        while i < len(report):\n",
    "           \n",
    "            if report[i]-report[i-1] >0:\n",
    "                # further check to see if the delta between adjacent levels is between 1 and 3\n",
    "                 if 1<=abs(report[i]-report[i-1])<=3:\n",
    "                    pass\n",
    "                 else:\n",
    "                    # print(f\"delta too high, {report} {report[i]-report[i-1]}\")\n",
    "                    report_safe = False\n",
    "                    break \n",
    "            else:\n",
    "                # print(f\"non increasing {report}, {sorted(report) == report}\")\n",
    "                report_safe = False\n",
    "                break\n",
    "            i += 1\n",
    "    \n",
    "    # case where the first two numebr sare decreasing\n",
    "    i = 1 \n",
    "    if report[1]-report[0] <0:\n",
    "        while i < len(report):\n",
    "            if report[i]-report[i-1] <0:\n",
    "                # further check to see if the delta between adjacent levels is between 1 and 3\n",
    "                if 1<=abs(report[i]-report[i-1])<=3:\n",
    "                    pass\n",
    "                else:\n",
    "                    # print(f\"delta too high, {report} {report[i]-report[i-1]}\")\n",
    "                    report_safe = False\n",
    "\n",
    "                    break \n",
    "            else:\n",
    "\n",
    "                # print(f\"non decreasing {report}, {sorted(report) == report}\")\n",
    "                report_safe = False\n",
    "                \n",
    "                break\n",
    "            i+=1\n",
    "    return report_safe\n",
    "            "
   ]
  },
  {
   "cell_type": "code",
   "execution_count": 4,
   "id": "e445a471-1b05-4d41-bce5-6450bde10b10",
   "metadata": {},
   "outputs": [],
   "source": [
    "test_data = [[7, 6, 4, 2, 1],\n",
    "[1, 2, 7, 8, 9],\n",
    "[9, 7, 6, 2, 1],\n",
    "[1, 3, 2, 4, 5],\n",
    "[8, 6, 4, 4, 1],\n",
    "[1, 3, 6, 7, 9],\n",
    "[1,3,2,1],\n",
    "[11, 13, 16, 17, 18, 18, 20, 20]]\n",
    "\n",
    "expected_result = [True,False,False,False,False,True, False, False]"
   ]
  },
  {
   "cell_type": "code",
   "execution_count": 5,
   "id": "061157cd-3bb5-4f53-a801-1e823a2cff09",
   "metadata": {},
   "outputs": [
    {
     "data": {
      "text/plain": [
       "[True, False, False, False, False, True, False, False]"
      ]
     },
     "execution_count": 5,
     "metadata": {},
     "output_type": "execute_result"
    }
   ],
   "source": [
    "[ check_report(report) for report in test_data]"
   ]
  },
  {
   "cell_type": "code",
   "execution_count": 6,
   "id": "eaf45303-87aa-4f36-8e48-0290cda15963",
   "metadata": {},
   "outputs": [
    {
     "data": {
      "text/plain": [
       "230"
      ]
     },
     "execution_count": 6,
     "metadata": {},
     "output_type": "execute_result"
    }
   ],
   "source": [
    "sum([check_report(report) for report in data])"
   ]
  },
  {
   "cell_type": "code",
   "execution_count": 7,
   "id": "e5c3aec0-05f5-47c9-bae6-8ce5ca124694",
   "metadata": {},
   "outputs": [],
   "source": [
    "unsafe_reports = [report for report in data if check_report(report) == False]"
   ]
  },
  {
   "cell_type": "code",
   "execution_count": 8,
   "id": "bf1afbbd-44c3-4bcf-8506-67c7cfe173a9",
   "metadata": {},
   "outputs": [
    {
     "data": {
      "text/plain": [
       "770"
      ]
     },
     "execution_count": 8,
     "metadata": {},
     "output_type": "execute_result"
    }
   ],
   "source": [
    "len(unsafe_reports)"
   ]
  },
  {
   "cell_type": "code",
   "execution_count": 9,
   "id": "75279fac-783a-404d-9f64-7a857c101a7e",
   "metadata": {},
   "outputs": [],
   "source": [
    "new_safe_reports = 0\n",
    "for unsafe_report in unsafe_reports:\n",
    "    i = 0 \n",
    "    while i <len(unsafe_report):\n",
    "        cropped_report = unsafe_report[:i] + unsafe_report[i+1:]\n",
    "        if check_report(cropped_report):\n",
    "            new_safe_reports+=1\n",
    "            break\n",
    "        i +=1"
   ]
  },
  {
   "cell_type": "code",
   "execution_count": 10,
   "id": "de6c1e4d-96d3-4c4c-ae07-8cecc4f7ffa6",
   "metadata": {},
   "outputs": [
    {
     "data": {
      "text/plain": [
       "71"
      ]
     },
     "execution_count": 10,
     "metadata": {},
     "output_type": "execute_result"
    }
   ],
   "source": [
    "new_safe_reports"
   ]
  },
  {
   "cell_type": "code",
   "execution_count": 11,
   "id": "9eb084f8-04d8-48c6-a6ca-9cc1731de69d",
   "metadata": {},
   "outputs": [
    {
     "data": {
      "text/plain": [
       "301"
      ]
     },
     "execution_count": 11,
     "metadata": {},
     "output_type": "execute_result"
    }
   ],
   "source": [
    "230+71"
   ]
  },
  {
   "cell_type": "code",
   "execution_count": null,
   "id": "74d9219c-a31b-499b-aa52-373b1b29dc4d",
   "metadata": {},
   "outputs": [],
   "source": []
  }
 ],
 "metadata": {
  "kernelspec": {
   "display_name": "Python 3 (ipykernel)",
   "language": "python",
   "name": "python3"
  },
  "language_info": {
   "codemirror_mode": {
    "name": "ipython",
    "version": 3
   },
   "file_extension": ".py",
   "mimetype": "text/x-python",
   "name": "python",
   "nbconvert_exporter": "python",
   "pygments_lexer": "ipython3",
   "version": "3.12.4"
  }
 },
 "nbformat": 4,
 "nbformat_minor": 5
}
