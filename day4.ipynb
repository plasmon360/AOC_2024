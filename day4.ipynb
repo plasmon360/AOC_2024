{
 "cells": [
  {
   "cell_type": "code",
   "execution_count": 7,
   "id": "c03d0d0a-35d6-491b-a636-523893259993",
   "metadata": {},
   "outputs": [],
   "source": [
    "# data = '''MMMSXXMASM\n",
    "# MSAMXMSMSA\n",
    "# AMXSXMAAMM\n",
    "# MSAMASMSMX\n",
    "# XMASAMXAMM\n",
    "# XXAMMXXAMA\n",
    "# SMSMSASXSS\n",
    "# SAXAMASAAA\n",
    "# MAMMMXMMMM\n",
    "# MXMXAXMASX'''\n",
    "\n",
    "with open(\"./data/day4_input.txt\") as f:\n",
    "    data = f.read()\n",
    "\n",
    "data = [['.']*3 + list(word)+['.']*3 for word in data.split()]\n",
    "\n",
    "data = [['.']*len(data[0])]*3+data+[['.']*len(data[0])]*3\n",
    "\n",
    "# for i in range(len(data)):\n",
    "#     print(data[i])"
   ]
  },
  {
   "cell_type": "code",
   "execution_count": null,
   "id": "26840fd0-5fa2-4f6c-a28e-ceaf06de05af",
   "metadata": {},
   "outputs": [],
   "source": []
  },
  {
   "cell_type": "code",
   "execution_count": 8,
   "id": "3ce49bbc-600c-412b-aec1-2a3724c703a9",
   "metadata": {},
   "outputs": [
    {
     "name": "stdout",
     "output_type": "stream",
     "text": [
      "2458\n"
     ]
    }
   ],
   "source": [
    "count = 0\n",
    "for i in range(3,len(data)-3):\n",
    "    for j in range(3,len(data[0])-3):\n",
    "        if data[i][j] == 'X':\n",
    "            # left\n",
    "            if \"\".join(data[i][j-3:j+1]) == 'SAMX':\n",
    "                count+=1\n",
    "            # right\n",
    "            if \"\".join(data[i][j:j+4]) == 'XMAS':\n",
    "                count+=1\n",
    "\n",
    "            # up\n",
    "            if \"\".join([data[i-_][j] for _ in range(4)]) == 'XMAS':\n",
    "                # print(\"\".join([data[i-_][j] for _ in range(4)]))\n",
    "                count+=1\n",
    "                \n",
    "            # down\n",
    "            if \"\".join([data[i+_][j] for _ in range(4)]) == 'XMAS':\n",
    "                # print(\"\".join([data[i+_][j] for _ in range(4)]))\n",
    "                count+=1\n",
    "\n",
    "            # north east:\n",
    "            if \"\".join([data[i+_][j+_] for _ in range(4)]) == 'XMAS':\n",
    "                # print(\"\".join([data[i+_][j+_] for _ in range(4)]))\n",
    "                count+=1\n",
    "\n",
    "            if \"\".join([data[i+_][j-_] for _ in range(4)]) == 'XMAS':\n",
    "                # print(\"\".join([data[i+_][j-_] for _ in range(4)]))\n",
    "                count+=1\n",
    "\n",
    "            if \"\".join([data[i-_][j+_] for _ in range(4)]) == 'XMAS':\n",
    "                # print(\"\".join([data[i-_][j+_] for _ in range(4)]))\n",
    "                count+=1\n",
    "\n",
    "            if \"\".join([data[i-_][j-_] for _ in range(4)]) == 'XMAS':\n",
    "                # print(\"\".join([data[i-_][j-_] for _ in range(4)]))\n",
    "                count+=1\n",
    "print(count)\n"
   ]
  },
  {
   "cell_type": "markdown",
   "id": "4b939d00-076a-47ed-a78f-6e74d5fcc175",
   "metadata": {},
   "source": [
    "# part2"
   ]
  },
  {
   "cell_type": "code",
   "execution_count": 9,
   "id": "918ab423-fc8e-43db-8253-3c33a6741b34",
   "metadata": {},
   "outputs": [],
   "source": [
    "# data = '''MMMSXXMASM\n",
    "# MSAMXMSMSA\n",
    "# AMXSXMAAMM\n",
    "# MSAMASMSMX\n",
    "# XMASAMXAMM\n",
    "# XXAMMXXAMA\n",
    "# SMSMSASXSS\n",
    "# SAXAMASAAA\n",
    "# MAMMMXMMMM\n",
    "# MXMXAXMASX'''"
   ]
  },
  {
   "cell_type": "code",
   "execution_count": 10,
   "id": "2e18c4d8-8cb7-4c91-9b41-d4c4eaeb2890",
   "metadata": {},
   "outputs": [],
   "source": [
    "with open(\"./data/day4_input.txt\") as f:\n",
    "    data = f.read()"
   ]
  },
  {
   "cell_type": "code",
   "execution_count": 11,
   "id": "2151ac93-4958-4329-80bb-b4031278e13e",
   "metadata": {},
   "outputs": [],
   "source": [
    "# padding\n",
    "data = [['.']*3 + list(word)+['.']*3 for word in data.split()]\n",
    "\n",
    "data = [['.']*len(data[0])]*3+data+[['.']*len(data[0])]*3\n",
    "\n",
    "\n",
    "\n",
    "# for i in range(len(data)):\n",
    "#     print(data[i])"
   ]
  },
  {
   "cell_type": "code",
   "execution_count": 12,
   "id": "50d39dce-1c58-4ffe-bf12-870112e749f7",
   "metadata": {},
   "outputs": [
    {
     "name": "stdout",
     "output_type": "stream",
     "text": [
      "1945\n"
     ]
    }
   ],
   "source": [
    "count = 0\n",
    "for i in range(3,len(data)-3):\n",
    "    for j in range(3,len(data[0])-3):\n",
    "        if data[i][j] == 'A':\n",
    "\n",
    "            if (\"\".join([data[i-1][j-1], data[i][j], data[i+1][j+1]]) == 'MAS') and  (\"\".join([data[i+1][j-1], data[i][j], data[i-1][j+1]]) == 'MAS'):\n",
    "                #print(\"\".join([data[i-1][j-1], data[i][j], data[i+1][j+1]]), \"\".join([data[i+1][j-1], data[i][j], data[i-1][j+1]]))\n",
    "                count+=1\n",
    "\n",
    "            if (\"\".join([data[i-1][j-1], data[i][j], data[i+1][j+1]]) == 'MAS') and  (\"\".join([data[i-1][j+1], data[i][j], data[i+1][j-1]]) == 'MAS'):\n",
    "                count+=1\n",
    "\n",
    "            if (\"\".join([data[i-1][j+1], data[i][j], data[i+1][j-1]]) == 'MAS') and  (\"\".join([data[i+1][j+1], data[i][j], data[i-1][j-1]]) == 'MAS'):\n",
    "                count+=1\n",
    "\n",
    "            if (\"\".join([data[i+1][j+1], data[i][j], data[i-1][j-1]]) == 'MAS') and  (\"\".join([data[i+1][j-1], data[i][j], data[i-1][j+1]]) == 'MAS'):\n",
    "                count+=1\n",
    "                \n",
    "\n",
    "print(count)\n"
   ]
  },
  {
   "cell_type": "code",
   "execution_count": null,
   "id": "2dc9df56-f2b8-426b-b355-69df077f5ca5",
   "metadata": {},
   "outputs": [],
   "source": []
  }
 ],
 "metadata": {
  "kernelspec": {
   "display_name": "Python 3 (ipykernel)",
   "language": "python",
   "name": "python3"
  },
  "language_info": {
   "codemirror_mode": {
    "name": "ipython",
    "version": 3
   },
   "file_extension": ".py",
   "mimetype": "text/x-python",
   "name": "python",
   "nbconvert_exporter": "python",
   "pygments_lexer": "ipython3",
   "version": "3.12.4"
  }
 },
 "nbformat": 4,
 "nbformat_minor": 5
}
