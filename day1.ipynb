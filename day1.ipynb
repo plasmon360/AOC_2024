{
 "cells": [
  {
   "cell_type": "code",
   "execution_count": 1,
   "id": "ca0a6773-0bb7-424f-8751-f938a1025177",
   "metadata": {},
   "outputs": [],
   "source": [
    "import requests"
   ]
  },
  {
   "cell_type": "code",
   "execution_count": 15,
   "id": "6d4d154a-3350-4b19-b09f-c6c382e5d537",
   "metadata": {},
   "outputs": [],
   "source": [
    "\n",
    "with open(\"/Users/bjuluri/Downloads/input.txt\") as f:\n",
    "    contents = f.readlines()"
   ]
  },
  {
   "cell_type": "code",
   "execution_count": 16,
   "id": "6736484a-860a-486f-9b3a-1ded997157a4",
   "metadata": {},
   "outputs": [],
   "source": [
    "list1 = []\n",
    "list2 = []\n",
    "for line in contents:\n",
    "    x,y = line.strip().split()\n",
    "    list1.append(int(x))\n",
    "    list2.append(int(y))\n"
   ]
  },
  {
   "cell_type": "code",
   "execution_count": 17,
   "id": "538d519f-e335-42c2-921a-9f6c790965e1",
   "metadata": {},
   "outputs": [],
   "source": [
    "list1 = sorted(list1)\n",
    "list2 = sorted(list2)"
   ]
  },
  {
   "cell_type": "code",
   "execution_count": 19,
   "id": "4677ceb4-9509-403f-87c0-80614b64ba16",
   "metadata": {},
   "outputs": [],
   "source": [
    "_sum = 0 \n",
    "for i,j in zip(list1, list2):\n",
    "    _sum += abs(i-j)"
   ]
  },
  {
   "cell_type": "code",
   "execution_count": 20,
   "id": "56d48eae-186d-47d1-b4b2-5b490daba41f",
   "metadata": {},
   "outputs": [
    {
     "data": {
      "text/plain": [
       "2815556"
      ]
     },
     "execution_count": 20,
     "metadata": {},
     "output_type": "execute_result"
    }
   ],
   "source": [
    "_sum"
   ]
  },
  {
   "cell_type": "code",
   "execution_count": 21,
   "id": "7cd93851-0765-4a63-9c8d-bff45b3fb96e",
   "metadata": {},
   "outputs": [
    {
     "data": {
      "text/plain": [
       "[10102, 10148, 10273, 10391, 10416]"
      ]
     },
     "execution_count": 21,
     "metadata": {},
     "output_type": "execute_result"
    }
   ],
   "source": [
    "list1[0:5]"
   ]
  },
  {
   "cell_type": "code",
   "execution_count": 22,
   "id": "46e6a6ef-880b-453e-8133-1aa5ee8babb7",
   "metadata": {},
   "outputs": [
    {
     "data": {
      "text/plain": [
       "[10170, 10399, 10405, 10500, 10505]"
      ]
     },
     "execution_count": 22,
     "metadata": {},
     "output_type": "execute_result"
    }
   ],
   "source": [
    "list2[0:5]"
   ]
  },
  {
   "cell_type": "code",
   "execution_count": 23,
   "id": "4dfa957e-75e8-4734-ae87-51e15acf31c9",
   "metadata": {},
   "outputs": [],
   "source": [
    "from collections import Counter"
   ]
  },
  {
   "cell_type": "code",
   "execution_count": 24,
   "id": "07577e01-e0ff-498a-a270-c76e428b302f",
   "metadata": {},
   "outputs": [],
   "source": [
    "c2 = Counter(list2)"
   ]
  },
  {
   "cell_type": "code",
   "execution_count": 26,
   "id": "64df2c60-0b02-4c80-bf5e-03dc4a066db2",
   "metadata": {},
   "outputs": [],
   "source": [
    "_sum = 0\n",
    "for item in list1:\n",
    "    _sum += item * c2.get(item,0)"
   ]
  },
  {
   "cell_type": "code",
   "execution_count": 27,
   "id": "c997ce5c-439c-4aac-85a8-e5199dfd4858",
   "metadata": {},
   "outputs": [
    {
     "data": {
      "text/plain": [
       "23927637"
      ]
     },
     "execution_count": 27,
     "metadata": {},
     "output_type": "execute_result"
    }
   ],
   "source": [
    "_sum"
   ]
  },
  {
   "cell_type": "code",
   "execution_count": null,
   "id": "cf0b8366-611d-4e4b-ab68-777a30a19cd2",
   "metadata": {},
   "outputs": [],
   "source": []
  }
 ],
 "metadata": {
  "kernelspec": {
   "display_name": "Python 3 (ipykernel)",
   "language": "python",
   "name": "python3"
  },
  "language_info": {
   "codemirror_mode": {
    "name": "ipython",
    "version": 3
   },
   "file_extension": ".py",
   "mimetype": "text/x-python",
   "name": "python",
   "nbconvert_exporter": "python",
   "pygments_lexer": "ipython3",
   "version": "3.12.4"
  }
 },
 "nbformat": 4,
 "nbformat_minor": 5
}
