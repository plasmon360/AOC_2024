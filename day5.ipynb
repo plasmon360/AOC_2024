{
 "cells": [
  {
   "cell_type": "markdown",
   "id": "bdeea49f-b6ec-40a9-b992-0d611ef2a586",
   "metadata": {},
   "source": [
    "# Day 5"
   ]
  },
  {
   "cell_type": "code",
   "execution_count": 24,
   "id": "83a399ce-107f-42b8-a6c4-be20161748e8",
   "metadata": {},
   "outputs": [],
   "source": [
    "def read_data(fp):\n",
    "    with open(fp) as f:\n",
    "        contents = f.read()\n",
    "    section1, section2 = contents.split(\"\\n\\n\")\n",
    "    section1 = [i.split(\"|\") for i in section1.split(\"\\n\")]\n",
    "    section2 = [i.split(\",\") for i in section2.split(\"\\n\")]\n",
    "    return section1, section2"
   ]
  },
  {
   "cell_type": "code",
   "execution_count": 25,
   "id": "ba5fcc3a-7d79-4eb3-9321-2bbdb33bfb40",
   "metadata": {},
   "outputs": [],
   "source": [
    "\n",
    "from collections import defaultdict\n",
    "from functools import cmp_to_key\n",
    "\n",
    "\n",
    "# brute force solution for part 1\n",
    "# def good_order(v):\n",
    "#     all_good = True\n",
    "#     for i in range(0,len(v)):\n",
    "#         # print(v[i])\n",
    "#         # print('-'*10)\n",
    "#         # print('-'*10)\n",
    "#         for j in range(i+1, len(v)):\n",
    "#             # print(v[j])\n",
    "#             if v[j] not in ordering_dict[v[i]]:\n",
    "#                 all_good = False\n",
    "#         # print('-'*10)\n",
    "#     return all_good\n",
    "\n",
    "\n",
    "\n",
    "\n",
    "\n",
    "\n",
    "def solution(section1, section2):\n",
    "\n",
    "    sorted_section1 = sorted(section1, key=lambda x: x[0])\n",
    "    ordering_dict = defaultdict(list)\n",
    "    for i, j in sorted_section1:\n",
    "        ordering_dict[i].append(j)\n",
    "    \n",
    "    def compare(a, b):\n",
    "        if b in ordering_dict[a]:\n",
    "            return -1\n",
    "        else:\n",
    "            return 1\n",
    "            \n",
    "    temp = [i for i in section2 if i == sorted(i, key=cmp_to_key(compare))]\n",
    "    part1_result = sum([int(i[len(i) // 2]) for i in temp])\n",
    "\n",
    "\n",
    "    temp = [i for i in section2 if i != sorted(i, key=cmp_to_key(compare))]\n",
    "    temp = [sorted(i, key=cmp_to_key(compare)) for i in temp]\n",
    "    part2_result = sum([int(i[len(i) // 2]) for i in temp])\n",
    "    \n",
    "    return part1_result, part2_result\n",
    "\n"
   ]
  },
  {
   "cell_type": "code",
   "execution_count": 26,
   "id": "489a0cf8-b7e3-4e29-a337-694cd264f708",
   "metadata": {},
   "outputs": [],
   "source": [
    "s1, s2 = read_data('/Users/bjuluri/Documents/PR_docs_agent/data/day5_input_testdata.txt')"
   ]
  },
  {
   "cell_type": "code",
   "execution_count": 27,
   "id": "5b11207e-16cf-4cbd-8280-15db23eeeb63",
   "metadata": {},
   "outputs": [],
   "source": [
    "assert solution(s1, s2) == (143, 123)"
   ]
  },
  {
   "cell_type": "code",
   "execution_count": 28,
   "id": "d38a9f01-f4fa-4ce6-9387-6ce3bc5196b8",
   "metadata": {},
   "outputs": [],
   "source": [
    "s1, s2 = read_data('/Users/bjuluri/Documents/PR_docs_agent/data/day5_input.txt')"
   ]
  },
  {
   "cell_type": "code",
   "execution_count": 29,
   "id": "00d85873-c764-412c-92ce-e86115ee9754",
   "metadata": {},
   "outputs": [
    {
     "data": {
      "text/plain": [
       "(6267, 5184)"
      ]
     },
     "execution_count": 29,
     "metadata": {},
     "output_type": "execute_result"
    }
   ],
   "source": [
    "solution(s1, s2)"
   ]
  },
  {
   "cell_type": "code",
   "execution_count": null,
   "id": "afa73bfd-a1cc-46e2-b45f-dc6bb00eddb0",
   "metadata": {},
   "outputs": [],
   "source": []
  },
  {
   "cell_type": "code",
   "execution_count": null,
   "id": "d341c4e7-45f3-4f6c-8890-e8c74169c141",
   "metadata": {},
   "outputs": [],
   "source": []
  }
 ],
 "metadata": {
  "kernelspec": {
   "display_name": "Python 3 (ipykernel)",
   "language": "python",
   "name": "python3"
  },
  "language_info": {
   "codemirror_mode": {
    "name": "ipython",
    "version": 3
   },
   "file_extension": ".py",
   "mimetype": "text/x-python",
   "name": "python",
   "nbconvert_exporter": "python",
   "pygments_lexer": "ipython3",
   "version": "3.12.4"
  }
 },
 "nbformat": 4,
 "nbformat_minor": 5
}
