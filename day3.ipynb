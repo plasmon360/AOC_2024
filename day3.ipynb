{
 "cells": [
  {
   "cell_type": "code",
   "execution_count": 215,
   "id": "b86c7ba3-7dcf-410a-a2fa-b74f647a88b5",
   "metadata": {},
   "outputs": [],
   "source": [
    "with open(\"./data/day3_input.txt\") as f:\n",
    "    contents = f.read().splitlines()"
   ]
  },
  {
   "cell_type": "code",
   "execution_count": 216,
   "id": "8a1d9e71-d5df-464f-b781-0cd4d9965ccf",
   "metadata": {},
   "outputs": [],
   "source": [
    "def read_line(corrupted_line):\n",
    "    _sum = 0 \n",
    "    \n",
    "   # Define the regular expression pattern to match the function\n",
    "    pattern = r\"mul\\((\\d+),(\\d+)\\)\" \n",
    "    # Iterate over all matches and extract the digits\n",
    "    for match in re.finditer(pattern, corrupted_line):\n",
    "        digit1 = match.group(1)\n",
    "        digit2 = match.group(2)\n",
    "        _sum += int(digit1)*int(digit2)\n",
    "\n",
    "    return _sum\n",
    "        "
   ]
  },
  {
   "cell_type": "code",
   "execution_count": 217,
   "id": "0599906e-8c0c-4a09-a727-af38a23fe139",
   "metadata": {},
   "outputs": [
    {
     "data": {
      "text/plain": [
       "175700056"
      ]
     },
     "execution_count": 217,
     "metadata": {},
     "output_type": "execute_result"
    }
   ],
   "source": [
    "sum([read_line(line) for line in contents])"
   ]
  },
  {
   "cell_type": "code",
   "execution_count": 218,
   "id": "8ffbf43f-b3e3-43a1-a250-9abfda8d8516",
   "metadata": {},
   "outputs": [],
   "source": [
    "## Part2"
   ]
  },
  {
   "cell_type": "code",
   "execution_count": 219,
   "id": "9c50ca4f-77ea-4b69-bcc1-4f92c6281fa3",
   "metadata": {},
   "outputs": [],
   "source": [
    "\n",
    "# contents = [\"xmul(2,4)&mul[3,7]!^don't()_mul(5,5)+mul(32,64](mul(11,8)undo()?mul(8,5))\"]"
   ]
  },
  {
   "cell_type": "code",
   "execution_count": 3,
   "id": "f2ceac4a-4a83-455f-b234-0a27e24c229b",
   "metadata": {},
   "outputs": [],
   "source": [
    "import re\n",
    "with open(\"./data/day3_input.txt\") as f:\n",
    "    contents = f.read()"
   ]
  },
  {
   "cell_type": "code",
   "execution_count": 4,
   "id": "97595111-637d-4a02-a16c-4637c80dd6c7",
   "metadata": {},
   "outputs": [
    {
     "data": {
      "text/plain": [
       "71668682"
      ]
     },
     "execution_count": 4,
     "metadata": {},
     "output_type": "execute_result"
    }
   ],
   "source": [
    "pattern = r\"don't\\(\\)|do\\(\\)|mul\\((\\d+),(\\d+)\\)\"\n",
    "_sum = 0 \n",
    "enable = True\n",
    "for match in re.finditer(pattern, contents):\n",
    "    if match.group(0) == \"don't()\":\n",
    "        enable = False\n",
    "    elif match.group(0) == \"do()\":\n",
    "        enable = True\n",
    "    else:\n",
    "        if enable:\n",
    "            digit1 = match.group(1)\n",
    "            digit2 = match.group(2)\n",
    "            _sum += int(digit1)*int(digit2)\n",
    "_sum\n",
    "        "
   ]
  },
  {
   "cell_type": "code",
   "execution_count": null,
   "id": "eae7c8ed-3a10-4898-8bd9-db50cc1136d4",
   "metadata": {},
   "outputs": [],
   "source": []
  },
  {
   "cell_type": "code",
   "execution_count": null,
   "id": "d1515054-c617-4c8a-9001-14ffa4f86071",
   "metadata": {},
   "outputs": [],
   "source": []
  }
 ],
 "metadata": {
  "kernelspec": {
   "display_name": "Python 3 (ipykernel)",
   "language": "python",
   "name": "python3"
  },
  "language_info": {
   "codemirror_mode": {
    "name": "ipython",
    "version": 3
   },
   "file_extension": ".py",
   "mimetype": "text/x-python",
   "name": "python",
   "nbconvert_exporter": "python",
   "pygments_lexer": "ipython3",
   "version": "3.12.4"
  }
 },
 "nbformat": 4,
 "nbformat_minor": 5
}
